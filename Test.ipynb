{
 "cells": [
  {
   "cell_type": "markdown",
   "id": "c9cc212f",
   "metadata": {},
   "source": [
    "## CUDA Matrix Multiplication\n",
    "\n",
    "This project is used to perform the matrix multipliacation on CUDA using SGEMM algorithm, and comparing with the build-in CUBLAS implement. Different versions of code applying different levels of optimization techniques and show the difference in performance."
   ]
  },
  {
   "cell_type": "markdown",
   "id": "0507d30b",
   "metadata": {},
   "source": [
    "First set up the experiments parameters."
   ]
  },
  {
   "cell_type": "code",
   "execution_count": 4,
   "id": "5b703999",
   "metadata": {},
   "outputs": [],
   "source": [
    "import numpy as np\n",
    "import struct\n",
    "from numpy.random import *\n",
    "\n",
    "# parameters set up\n",
    "N = 128\n",
    "H = 128\n",
    "W = 128\n",
    "K = 128"
   ]
  },
  {
   "cell_type": "markdown",
   "id": "f0b39752",
   "metadata": {},
   "source": [
    "Generate the data of two different Matrixes and save to the files for later usage.  \n",
    "Note: the data should be in binary format and the data type is 32 bits float."
   ]
  },
  {
   "cell_type": "code",
   "execution_count": null,
   "id": "bb002006",
   "metadata": {},
   "outputs": [],
   "source": [
    "# generate random data and write to file\n",
    "Matrix1 = (np.array( rand(N * H * K ) )*2-1.0).astype(np.float32)\n",
    "# Matrix1 = np.ones(N * H * K).astype(np.float32)\n",
    "des = open(\"./data/Matrix1.bin\",\"wb\")\n",
    "cnt = des.write(Matrix1)\n",
    "des.close()\n",
    "\n",
    "Matrix2 = (np.array( rand(N * K * W ) )*2-1.0).astype(np.float32)\n",
    "# Matrix2 = (np.ones(N * K * W )).astype(np.float32)\n",
    "des = open(\"./data/Matrix2.bin\",\"wb\")\n",
    "cnt = des.write(Matrix2)\n",
    "des.close()"
   ]
  },
  {
   "cell_type": "markdown",
   "id": "6fdb0a9f",
   "metadata": {},
   "source": [
    "Read in the data from the file."
   ]
  },
  {
   "cell_type": "code",
   "execution_count": 5,
   "id": "326c9f15",
   "metadata": {},
   "outputs": [],
   "source": [
    "#readin the data from the file\n",
    "src = open(\"./data/Matrix1.bin\",\"rb\")\n",
    "context = src.read()\n",
    "# print(len(context))\n",
    "real_context = struct.unpack(str(N * H * K)+'f',context)\n",
    "M1 = np.array(real_context).reshape((N,H,K))\n",
    "\n",
    "\n",
    "src = open(\"./data/Matrix2.bin\",\"rb\")\n",
    "context = src.read()\n",
    "# print(len(context))\n",
    "real_context = struct.unpack(str(N * K * W)+'f',context)\n",
    "M2 = np.array(real_context).reshape((N,K,W))"
   ]
  },
  {
   "cell_type": "markdown",
   "id": "b481d8ae",
   "metadata": {},
   "source": [
    "Excute the Matrix Multiplication using python program and get result."
   ]
  },
  {
   "cell_type": "code",
   "execution_count": 8,
   "id": "275e7391",
   "metadata": {},
   "outputs": [
    {
     "name": "stdout",
     "output_type": "stream",
     "text": [
      "(128, 128, 128)\n"
     ]
    }
   ],
   "source": [
    "def MatrixMulBatched(a,b):\n",
    "    # a and b represents the matrix1 and matrix2\n",
    "    N = a.shape[0]\n",
    "    H = a.shape[1]\n",
    "    K = a.shape[2]\n",
    "    W = b.shape[2]\n",
    "    c = np.zeros((N,H,W))\n",
    "    for n in range(N):\n",
    "        c[n] = a[n] @ b[n]\n",
    "    return c\n",
    "\n",
    "# input = np.ones(parameters1).astype(np.float32).reshape((Aside,Aside,128))\n",
    "# kernel = np.ones(parameters2).astype(np.float32).reshape((128,128,3,3)).transpose((0,2,3,1))\n",
    "Output = MatrixMulBatched(M1,M2)\n",
    "print(Output.shape)"
   ]
  }
 ],
 "metadata": {
  "kernelspec": {
   "display_name": "Python 3 (ipykernel)",
   "language": "python",
   "name": "python3"
  },
  "language_info": {
   "codemirror_mode": {
    "name": "ipython",
    "version": 3
   },
   "file_extension": ".py",
   "mimetype": "text/x-python",
   "name": "python",
   "nbconvert_exporter": "python",
   "pygments_lexer": "ipython3",
   "version": "3.8.10"
  }
 },
 "nbformat": 4,
 "nbformat_minor": 5
}
